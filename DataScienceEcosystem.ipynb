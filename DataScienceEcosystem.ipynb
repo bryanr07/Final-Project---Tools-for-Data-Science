{
 "cells": [
  {
   "cell_type": "markdown",
   "id": "4e6530ec-3570-4029-8237-1131cd2189a1",
   "metadata": {},
   "source": [
    "# Data Science Tools and Ecosystem"
   ]
  },
  {
   "cell_type": "markdown",
   "id": "559d2bf6-7a12-4d88-b48d-00f84129dad8",
   "metadata": {},
   "source": [
    "In this notebook, Data Science Tools and Ecosystem are summarized."
   ]
  },
  {
   "cell_type": "markdown",
   "id": "48b1153b-f8a0-4817-92cc-ac8f7f1b3635",
   "metadata": {
    "tags": []
   },
   "source": [
    "### Some of the popular languages that Data Scientists use are:"
   ]
  },
  {
   "cell_type": "markdown",
   "id": "68ea3ca0-4a2a-485d-b198-63648212cc3a",
   "metadata": {},
   "source": [
    "- Python\n",
    "- R\n",
    "- Scala"
   ]
  },
  {
   "cell_type": "markdown",
   "id": "0728e564-948f-47bf-b2d5-2d63d87b90ec",
   "metadata": {},
   "source": [
    "### Some of the commonly used libraries used by Data Scientists include:"
   ]
  },
  {
   "cell_type": "markdown",
   "id": "3c4fd171-b75b-4529-b1c7-f99878a40a77",
   "metadata": {
    "tags": []
   },
   "source": [
    "- pandas\n",
    "- matplotlib\n",
    "- seaborn"
   ]
  },
  {
   "cell_type": "markdown",
   "id": "567d8b3d-4c6c-44ae-81b8-72de50a26da2",
   "metadata": {},
   "source": [
    "| Data Science Tools        |\n",
    "|---------------------------|\n",
    "| Jupyter Notebook          |\n",
    "| RStudio                   |\n",
    "| VS Code                   |"
   ]
  },
  {
   "cell_type": "markdown",
   "id": "97ea5245-012c-4df9-854c-1b88e5cd42e3",
   "metadata": {
    "tags": []
   },
   "source": [
    "### Below are a few examples of evaluating arithmetic expressions in Python"
   ]
  },
  {
   "cell_type": "code",
   "execution_count": 5,
   "id": "49df329e-4a7f-478f-828c-9a30f2658819",
   "metadata": {
    "tags": []
   },
   "outputs": [
    {
     "data": {
      "text/plain": [
       "17"
      ]
     },
     "execution_count": 5,
     "metadata": {},
     "output_type": "execute_result"
    }
   ],
   "source": [
    "(3*4)+5\n",
    "# This a simple arithmetic expression to mutiply then add integers"
   ]
  },
  {
   "cell_type": "code",
   "execution_count": 7,
   "id": "6c2f9e9d-f4c4-40d1-afce-1affa1f8387e",
   "metadata": {
    "tags": []
   },
   "outputs": [
    {
     "data": {
      "text/plain": [
       "3.3333333333333335"
      ]
     },
     "execution_count": 7,
     "metadata": {},
     "output_type": "execute_result"
    }
   ],
   "source": [
    "# This will convert 200 minutes to hours by diving by 60\n",
    "200 / 60"
   ]
  },
  {
   "cell_type": "markdown",
   "id": "c3c13ba7-8e60-4630-9b40-97d6171f088d",
   "metadata": {},
   "source": [
    "**Objectives:**\n",
    "- List popular languages for Data Science\n",
    "- List popular libraries for Data Science\n",
    "- Create a markdown table\n",
    "- Write basic expressions"
   ]
  },
  {
   "cell_type": "markdown",
   "id": "300febab-68e6-4167-bb03-e98a1d1822e0",
   "metadata": {},
   "source": [
    "## Author\n",
    "Bryan Rodriguez"
   ]
  },
  {
   "cell_type": "code",
   "execution_count": null,
   "id": "86cd7333-a217-479a-9293-1b483ae00d85",
   "metadata": {},
   "outputs": [],
   "source": []
  }
 ],
 "metadata": {
  "kernelspec": {
   "display_name": "Python 3 (ipykernel)",
   "language": "python",
   "name": "python3"
  },
  "language_info": {
   "codemirror_mode": {
    "name": "ipython",
    "version": 3
   },
   "file_extension": ".py",
   "mimetype": "text/x-python",
   "name": "python",
   "nbconvert_exporter": "python",
   "pygments_lexer": "ipython3",
   "version": "3.11.5"
  }
 },
 "nbformat": 4,
 "nbformat_minor": 5
}
